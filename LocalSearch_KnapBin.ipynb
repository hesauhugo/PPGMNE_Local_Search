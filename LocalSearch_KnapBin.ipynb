{
 "cells": [
  {
   "cell_type": "code",
   "execution_count": 1,
   "metadata": {
    "id": "p77bXbNpfOuC"
   },
   "outputs": [],
   "source": [
    "import numpy as np\n",
    "import matplotlib.pyplot as plt\n",
    "from time import process_time\n"
   ]
  },
  {
   "cell_type": "code",
   "execution_count": 2,
   "metadata": {
    "colab": {
     "base_uri": "https://localhost:8080/"
    },
    "id": "8-kIM_ISfVDY",
    "outputId": "fc251467-40d3-4150-8a35-d32c45c0e9b9"
   },
   "outputs": [
    {
     "name": "stdout",
     "output_type": "stream",
     "text": [
      "4\n",
      "8\n",
      "[[0 1 2 3 1 2 3 4]\n",
      " [1 0 1 2 2 1 2 3]\n",
      " [2 1 0 1 3 2 1 2]\n",
      " [3 2 1 0 4 3 2 1]]\n",
      "[1 5 2 4 1 3 4 3]\n"
     ]
    }
   ],
   "source": [
    "A = np.array([[0,1,2,3,1,2,3,4],\n",
    "              [1,0,1,2,2,1,2,3],\n",
    "              [2,1,0,1,3,2,1,2],\n",
    "              [3,2,1,0,4,3,2,1]])\n",
    "\n",
    "RHS  = np.array([10,15,6,8])\n",
    "\n",
    "Utility  = np.array([1,5,2,4,1,3,4,3])\n",
    "\n",
    "row, col = A.shape\n",
    "\n",
    "print(row)\n",
    "print(col)\n",
    "\n",
    "print(A)\n",
    "print (Utility)\n",
    "\n"
   ]
  },
  {
   "cell_type": "code",
   "execution_count": 3,
   "metadata": {
    "id": "emFvxPphf1zY"
   },
   "outputs": [],
   "source": [
    "# Define a Objective function\n",
    "def of(c,x):\n",
    "    return sum(c*x)\n",
    "\n",
    "# Verify the feasibility of the solution\n",
    "def feasibility(a,b,x):\n",
    "    Feasible = True\n",
    "    for i in range(row):\n",
    "        if sum(a[i]*x) > b[i]:\n",
    "            Feasible = False\n",
    "    return Feasible\n",
    "\n",
    "\n",
    "def neigh_changeOne(x):\n",
    "    print(\"input: \\t\", x)\n",
    "    xx = x.copy() #copy the solution to preserve the original\n",
    "    #[0,0,0,0,0,0,0,0]\n",
    "    bestX = x.copy()\n",
    "    bestOF = of(bestX,Utility)\n",
    "\n",
    "    for i in range(col):\n",
    "        xx[i] = (1-xx[i])\n",
    "        if printAll: print(\"ChangeOne(\",i, \"): \", xx, \"\\tOF: \", of(xx,Utility), \"\\tFeasible: \", feasibility(A,RHS,xx))\n",
    "        if feasibility(A,RHS,xx):\n",
    "            Obj = of(xx,Utility)\n",
    "            if(Obj > bestOF):\n",
    "                bestX = xx.copy()\n",
    "                bestOF = Obj\n",
    "    print(\"*ChangeOne(\",i, \"):\", xx, \"\\tOF: \", of(xx,Utility), \"\\tFeasible: \", feasibility(A,RHS,xx))\n",
    "    \n",
    "    return bestX, bestOF\n",
    "\n",
    "def neigh_changeOne2(x):\n",
    "\n",
    "    #copy the solution to preserve the original\n",
    "    xx = x.copy() \n",
    "    bestX = x.copy() \n",
    "    #load best objective function\n",
    "    bestOF = of(bestX,Utility) \n",
    "    print(\"input2: \\t\", x,\" and best: \\t\", bestOF)\n",
    "    for i in range(col):\n",
    "        \n",
    "        #change current binary i\n",
    "        xx[i] = (1-xx[i]) \n",
    "        if printAll: print(\"ChangeOne2(\",i, \"): \", xx, \"\\tOF: \", of(xx,Utility), \"\\tFeasible: \", feasibility(A,RHS,xx))\n",
    "        \n",
    "        #verify feasibility\n",
    "        if feasibility(A,RHS,xx):\n",
    "            Obj = of(xx,Utility)\n",
    "            \n",
    "            #If current objective function is best of than previos then the current is changed\n",
    "            if(Obj > bestOF):\n",
    "                bestX = xx.copy()\n",
    "                bestOF = Obj\n",
    "                break\n",
    "            \n",
    "        \n",
    "    print(\"*ChangeOne2(\",i, \"):\", xx, \"\\tOF: \", of(xx,Utility), \"\\tFeasible: \", feasibility(A,RHS,xx))\n",
    "    return bestX, bestOF\n"
   ]
  },
  {
   "cell_type": "code",
   "execution_count": 4,
   "metadata": {
    "colab": {
     "base_uri": "https://localhost:8080/",
     "height": 602
    },
    "id": "gapyvIWhhE2m",
    "outputId": "aa425c35-7417-444b-9465-65e32c8ec7c7"
   },
   "outputs": [
    {
     "name": "stdout",
     "output_type": "stream",
     "text": [
      "Best Improve Strategy\n",
      "input: \t [0 0 0 0 0 0 0 0]\n",
      "ChangeOne( 0 ):  [1 0 0 0 0 0 0 0] \tOF:  1 \tFeasible:  True\n",
      "ChangeOne( 1 ):  [1 1 0 0 0 0 0 0] \tOF:  6 \tFeasible:  True\n",
      "ChangeOne( 2 ):  [1 1 1 0 0 0 0 0] \tOF:  8 \tFeasible:  True\n",
      "ChangeOne( 3 ):  [1 1 1 1 0 0 0 0] \tOF:  12 \tFeasible:  True\n",
      "ChangeOne( 4 ):  [1 1 1 1 1 0 0 0] \tOF:  13 \tFeasible:  False\n",
      "ChangeOne( 5 ):  [1 1 1 1 1 1 0 0] \tOF:  16 \tFeasible:  False\n",
      "ChangeOne( 6 ):  [1 1 1 1 1 1 1 0] \tOF:  20 \tFeasible:  False\n",
      "ChangeOne( 7 ):  [1 1 1 1 1 1 1 1] \tOF:  23 \tFeasible:  False\n",
      "*ChangeOne( 7 ): [1 1 1 1 1 1 1 1] \tOF:  23 \tFeasible:  False\n",
      "input: \t [1 1 1 1 0 0 0 0]\n",
      "ChangeOne( 0 ):  [0 1 1 1 0 0 0 0] \tOF:  11 \tFeasible:  True\n",
      "ChangeOne( 1 ):  [0 0 1 1 0 0 0 0] \tOF:  6 \tFeasible:  True\n",
      "ChangeOne( 2 ):  [0 0 0 1 0 0 0 0] \tOF:  4 \tFeasible:  True\n",
      "ChangeOne( 3 ):  [0 0 0 0 0 0 0 0] \tOF:  0 \tFeasible:  True\n",
      "ChangeOne( 4 ):  [0 0 0 0 1 0 0 0] \tOF:  1 \tFeasible:  True\n",
      "ChangeOne( 5 ):  [0 0 0 0 1 1 0 0] \tOF:  4 \tFeasible:  True\n",
      "ChangeOne( 6 ):  [0 0 0 0 1 1 1 0] \tOF:  8 \tFeasible:  False\n",
      "ChangeOne( 7 ):  [0 0 0 0 1 1 1 1] \tOF:  11 \tFeasible:  False\n",
      "*ChangeOne( 7 ): [0 0 0 0 1 1 1 1] \tOF:  11 \tFeasible:  False\n",
      "First Improve Stragegy\n",
      "input2: \t [0 0 0 0 0 0 0 0]  and best: \t 0\n",
      "ChangeOne2( 0 ):  [1 0 0 0 0 0 0 0] \tOF:  1 \tFeasible:  True\n",
      "*ChangeOne2( 0 ): [1 0 0 0 0 0 0 0] \tOF:  1 \tFeasible:  True\n",
      "input2: \t [1 0 0 0 0 0 0 0]  and best: \t 1\n",
      "ChangeOne2( 0 ):  [0 0 0 0 0 0 0 0] \tOF:  0 \tFeasible:  True\n",
      "ChangeOne2( 1 ):  [0 1 0 0 0 0 0 0] \tOF:  5 \tFeasible:  True\n",
      "*ChangeOne2( 1 ): [0 1 0 0 0 0 0 0] \tOF:  5 \tFeasible:  True\n",
      "input2: \t [0 1 0 0 0 0 0 0]  and best: \t 5\n",
      "ChangeOne2( 0 ):  [1 1 0 0 0 0 0 0] \tOF:  6 \tFeasible:  True\n",
      "*ChangeOne2( 0 ): [1 1 0 0 0 0 0 0] \tOF:  6 \tFeasible:  True\n",
      "input2: \t [1 1 0 0 0 0 0 0]  and best: \t 6\n",
      "ChangeOne2( 0 ):  [0 1 0 0 0 0 0 0] \tOF:  5 \tFeasible:  True\n",
      "ChangeOne2( 1 ):  [0 0 0 0 0 0 0 0] \tOF:  0 \tFeasible:  True\n",
      "ChangeOne2( 2 ):  [0 0 1 0 0 0 0 0] \tOF:  2 \tFeasible:  True\n",
      "ChangeOne2( 3 ):  [0 0 1 1 0 0 0 0] \tOF:  6 \tFeasible:  True\n",
      "ChangeOne2( 4 ):  [0 0 1 1 1 0 0 0] \tOF:  7 \tFeasible:  True\n",
      "*ChangeOne2( 4 ): [0 0 1 1 1 0 0 0] \tOF:  7 \tFeasible:  True\n",
      "input2: \t [0 0 1 1 1 0 0 0]  and best: \t 7\n",
      "ChangeOne2( 0 ):  [1 0 1 1 1 0 0 0] \tOF:  8 \tFeasible:  True\n",
      "*ChangeOne2( 0 ): [1 0 1 1 1 0 0 0] \tOF:  8 \tFeasible:  True\n",
      "input2: \t [1 0 1 1 1 0 0 0]  and best: \t 8\n",
      "ChangeOne2( 0 ):  [0 0 1 1 1 0 0 0] \tOF:  7 \tFeasible:  True\n",
      "ChangeOne2( 1 ):  [0 1 1 1 1 0 0 0] \tOF:  12 \tFeasible:  True\n",
      "*ChangeOne2( 1 ): [0 1 1 1 1 0 0 0] \tOF:  12 \tFeasible:  True\n",
      "input2: \t [0 1 1 1 1 0 0 0]  and best: \t 12\n",
      "ChangeOne2( 0 ):  [1 1 1 1 1 0 0 0] \tOF:  13 \tFeasible:  False\n",
      "ChangeOne2( 1 ):  [1 0 1 1 1 0 0 0] \tOF:  8 \tFeasible:  True\n",
      "ChangeOne2( 2 ):  [1 0 0 1 1 0 0 0] \tOF:  6 \tFeasible:  True\n",
      "ChangeOne2( 3 ):  [1 0 0 0 1 0 0 0] \tOF:  2 \tFeasible:  True\n",
      "ChangeOne2( 4 ):  [1 0 0 0 0 0 0 0] \tOF:  1 \tFeasible:  True\n",
      "ChangeOne2( 5 ):  [1 0 0 0 0 1 0 0] \tOF:  4 \tFeasible:  True\n",
      "ChangeOne2( 6 ):  [1 0 0 0 0 1 1 0] \tOF:  8 \tFeasible:  True\n",
      "ChangeOne2( 7 ):  [1 0 0 0 0 1 1 1] \tOF:  11 \tFeasible:  False\n",
      "*ChangeOne2( 7 ): [1 0 0 0 0 1 1 1] \tOF:  11 \tFeasible:  False\n",
      "Elapsed time during the whole program in seconds: 0.046875\n"
     ]
    },
    {
     "data": {
      "text/plain": [
       "Text(0.5, 0, '# Round')"
      ]
     },
     "execution_count": 4,
     "metadata": {},
     "output_type": "execute_result"
    },
    {
     "data": {
      "image/png": "[encoded data removed]",
      "text/plain": [
       "<Figure size 432x288 with 1 Axes>"
      ]
     },
     "metadata": {
      "needs_background": "light"
     },
     "output_type": "display_data"
    }
   ],
   "source": [
    "X0 = np.array([0,0,0,0,0,0,0,0])\n",
    "bestX = X0.copy()\n",
    "bestOF_ant = 0 \n",
    "\n",
    "printAll = True\n",
    "\n",
    "history = [0]\n",
    "history2 = [0]\n",
    "\n",
    "improvement = True\n",
    "\n",
    "t1_start = process_time() \n",
    "print(\"Best Improve Strategy\")\n",
    "while improvement:\n",
    "    bestX, bestOF = neigh_changeOne(bestX)\n",
    "    if bestOF > bestOF_ant:\n",
    "        bestOF_ant = bestOF\n",
    "        history.append(bestOF)\n",
    "    else: \n",
    "        improvement = False\n",
    "\n",
    "print(\"First Improve Stragegy\")        \n",
    "improvement = True\n",
    "bestX = X0.copy()\n",
    "bestOF_ant = 0 \n",
    "while improvement:\n",
    "    bestX, bestOF = neigh_changeOne2(bestX)\n",
    "    if bestOF > bestOF_ant:\n",
    "        bestOF_ant = bestOF\n",
    "        history2.append(bestOF)\n",
    "    else: \n",
    "        improvement = False\n",
    "        \n",
    "# Stop the stopwatch / counter\n",
    "t1_stop = process_time()\n",
    "\n",
    "\n",
    "print(\"Elapsed time during the whole program in seconds:\", t1_stop-t1_start) \n",
    "\n",
    "plt.plot(history, \"-o\")\n",
    "plt.plot(history2, \"-o\")\n",
    "\n",
    "plt.ylabel('Objetive Function')\n",
    "plt.xlabel('# Round')\n",
    "#plt.annotate('local max', xy=(30, 16), xytext=(15, 16),\n",
    "#             arrowprops=dict(facecolor='black', shrink=0.05),\n",
    "#             )\n",
    "\n"
   ]
  },
  {
   "cell_type": "code",
   "execution_count": null,
   "metadata": {},
   "outputs": [],
   "source": []
  }
 ],
 "metadata": {
  "colab": {
   "collapsed_sections": [],
   "name": "LocalSearch_KnapBin.ipynb",
   "provenance": []
  },
  "kernelspec": {
   "display_name": "Python 3",
   "language": "python",
   "name": "python3"
  },
  "language_info": {
   "codemirror_mode": {
    "name": "ipython",
    "version": 3
   },
   "file_extension": ".py",
   "mimetype": "text/x-python",
   "name": "python",
   "nbconvert_exporter": "python",
   "pygments_lexer": "ipython3",
   "version": "3.8.8"
  }
 },
 "nbformat": 4,
 "nbformat_minor": 1
}
