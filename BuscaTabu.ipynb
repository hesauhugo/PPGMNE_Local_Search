{
 "cells": [
  {
   "cell_type": "code",
   "execution_count": 1,
   "id": "2bcb9eed",
   "metadata": {},
   "outputs": [],
   "source": [
    "import time\n",
    "import copy as cpy\n",
    "import numpy as np\n",
    "import random as rand"
   ]
  },
  {
   "cell_type": "code",
   "execution_count": 2,
   "id": "52487a10",
   "metadata": {},
   "outputs": [],
   "source": [
    "\n",
    "        "
   ]
  },
  {
   "cell_type": "code",
   "execution_count": 3,
   "id": "0404bbb2",
   "metadata": {},
   "outputs": [],
   "source": [
    "ALFA = 1000\n",
    "def calcFO(solucao, numObj,numMoc,valObj,vetPesObj,vetCapMoc):\n",
    "    fo = 0\n",
    "    vetPes = [0]*numMoc\n",
    "    \n",
    "    for i in range(numObj):\n",
    "        #calcula a FO dos objetos selecionados\n",
    "        if solucao[i] !=0:\n",
    "            fo+= valObj[i]\n",
    "            vetPes[solucao[i]-1] += vetPesObj[i]\n",
    "    \n",
    "    for j in range(numMoc):\n",
    "        #verifica se a capacidade da mochila foi excedida\n",
    "        if vetPes[j]>vetCapMoc[j]:\n",
    "            #se verdadeiro penaliza a FO\n",
    "            fo -= ALFA *(vetPes[j]*-vetCapMoc[j])\n",
    "    return fo"
   ]
  },
  {
   "cell_type": "code",
   "execution_count": 4,
   "id": "91b0436a",
   "metadata": {},
   "outputs": [],
   "source": [
    "def leDados():\n",
    "    #inicializando as variaveis\n",
    "    numObj = numMoc = 0\n",
    "    valObj = []\n",
    "    pesObj = []\n",
    "    capMoc = []\n",
    "    #lendo os dados\n",
    "    f = open(r\"C:\\Users\\User\\Documents\\Mestrado\\Combinatorial Otimization\\Trabalho2\\dadosMochila1.txt\",\"r\")\n",
    "    #lendo a primeira linha\n",
    "    linha  = f.readline()\n",
    "    valores = linha.split()\n",
    "    #lendo o numero de objetos\n",
    "    numObj = int(valores[0])\n",
    "    numMoc = int(valores[1])\n",
    "    #lendo a segunda linha\n",
    "    linha = f.readline()\n",
    "    valores = linha.split()\n",
    "    #lendo os valores dos objetos\n",
    "    for val in valores:\n",
    "        valObj.append(int(val))\n",
    "\n",
    "    #lendo a terceira linha\n",
    "    linha = f.readline()\n",
    "    valores = linha.split()\n",
    "    #lendo os pesos dos objetos\n",
    "    for val in valores:\n",
    "        pesObj.append(int(val))\n",
    "        \n",
    "    #lendo a quarta linha\n",
    "    linha = f.readline()\n",
    "    valores = linha.split()\n",
    "    #lendo a capacidade das mochilas\n",
    "    for val in valores:\n",
    "        capMoc.append(int(val))\n",
    "    \n",
    "    f.close()\n",
    "    return numObj,numMoc,valObj,pesObj,capMoc\n",
    "    \n",
    "        "
   ]
  },
  {
   "cell_type": "code",
   "execution_count": 5,
   "id": "5b9ac1bd",
   "metadata": {},
   "outputs": [],
   "source": [
    "rand.seed()\n",
    "\n",
    "def heuConstrutivaAleatoria(numObj,numMoc):\n",
    "    #inicializando o vetor de solução com o tamanho do numero de objetos\n",
    "    sol = [0] * numObj\n",
    "    for i in range(numObj):\n",
    "        #para cada objeto e sorteado em qual mochila ele sera colocado\n",
    "        sol[i] = rand.randint(0,numMoc)\n",
    "    return sol"
   ]
  },
  {
   "cell_type": "code",
   "execution_count": 6,
   "id": "5bfd1d0e",
   "metadata": {},
   "outputs": [
    {
     "name": "stdout",
     "output_type": "stream",
     "text": [
      "Solucao: [1, 0, 3, 1, 2, 0, 2, 1, 3, 1, 1, 1, 2, 1, 1, 1, 1, 1, 0, 1]\n",
      "FO: 86193442\n",
      "Achou em: %.2f  10.000395059585571\n"
     ]
    }
   ],
   "source": [
    "numObjetos = numMochilas = 0\n",
    "T=10 #neste exemplo adotou-se o tamalho de 10 a lista Tabu\n",
    "tempoExec = 10 #neste exemplo adotou-se 10 segundos de tempo de execucao\n",
    "vetValoresObjetos = []\n",
    "vetPesosObjetos = []\n",
    "vetCapacidadeMochilas = []\n",
    "\n",
    "numObjetos,numMochilas,vetValoresObjetos,vetPesosObjetos,vetCapacidadeMochilas = leDados()\n",
    "\n",
    "solIni = heuConstrutivaAleatoria(numObjetos,numMochilas)\n",
    "#obtendo uma solução pela meta-heuristica Busca Tabu\n",
    "sol,tempo = BuscaTabu(tempoExec,T,solIni,numObjetos,numMochilas,vetValoresObjetos,vetPesosObjetos,vetCapacidadeMochilas)\n",
    "\n",
    "#calculando a FO da solucao obtida\n",
    "FO = calcFO(sol,numObjetos,numMochilas,vetValoresObjetos,vetPesosObjetos,vetCapacidadeMochilas)\n",
    "\n",
    "print(\"Solucao:\",sol)\n",
    "print(\"FO:\",FO)\n",
    "print(\"Achou em: %.2f \", tempo)"
   ]
  },
  {
   "cell_type": "code",
   "execution_count": 34,
   "id": "d8251fbf",
   "metadata": {},
   "outputs": [
    {
     "name": "stdout",
     "output_type": "stream",
     "text": [
      "[0, 3, 4]\n",
      "[8, 2, 8]\n",
      "[3, 4]\n",
      "[2, 8]\n"
     ]
    },
    {
     "data": {
      "text/plain": [
       "2"
      ]
     },
     "execution_count": 34,
     "metadata": {},
     "output_type": "execute_result"
    }
   ],
   "source": [
    "xx = [1,0,0,1,0,1,0,1,0,0]\n",
    "VetorITabu = []\n",
    "VetorJTabu = []\n",
    "\n",
    "VetorITabu.append(0)\n",
    "VetorJTabu.append(8)\n",
    "\n",
    "lista[0,0] = 0 # i\n",
    "lista[1,0] = 8 # j\n",
    "\n",
    "VetorITabu.append(3)\n",
    "VetorJTabu.append(2)\n",
    "\n",
    "lista[0,1] = 3 # i\n",
    "lista[1,1] = 2 # j\n",
    "\n",
    "VetorITabu.append(4)\n",
    "VetorJTabu.append(8)\n",
    "\n",
    "lista[0,2] = 4 # i\n",
    "lista[1,2] = 8 # j\n",
    "\n",
    "print(VetorITabu)\n",
    "print(VetorJTabu)\n",
    "\n",
    "VetorITabu=VetorITabu[(1):]\n",
    "VetorJTabu=VetorJTabu[(1):]\n",
    "\n",
    "print(VetorITabu)\n",
    "print(VetorJTabu)\n",
    "len(VetorJTabu)"
   ]
  },
  {
   "cell_type": "code",
   "execution_count": null,
   "id": "5afb6e44",
   "metadata": {},
   "outputs": [],
   "source": []
  }
 ],
 "metadata": {
  "kernelspec": {
   "display_name": "Python 3",
   "language": "python",
   "name": "python3"
  },
  "language_info": {
   "codemirror_mode": {
    "name": "ipython",
    "version": 3
   },
   "file_extension": ".py",
   "mimetype": "text/x-python",
   "name": "python",
   "nbconvert_exporter": "python",
   "pygments_lexer": "ipython3",
   "version": "3.8.8"
  }
 },
 "nbformat": 4,
 "nbformat_minor": 5
}
